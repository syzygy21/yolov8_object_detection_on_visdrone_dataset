{
 "cells": [
  {
   "cell_type": "code",
   "execution_count": 10,
   "id": "cf65d6d5",
   "metadata": {},
   "outputs": [
    {
     "name": "stdout",
     "output_type": "stream",
     "text": [
      "Downloading https://github.com/ultralytics/yolov5/releases/download/v1.0/VisDrone2019-DET-train.zip to 'C:\\Users\\Navdeep\\datasets\\VisDrone\\VisDrone2019-DET-train.zip'...\n",
      "Downloading https://github.com/ultralytics/yolov5/releases/download/v1.0/VisDrone2019-DET-val.zip to 'C:\\Users\\Navdeep\\datasets\\VisDrone\\VisDrone2019-DET-val.zip'...\n",
      "Downloading https://github.com/ultralytics/yolov5/releases/download/v1.0/VisDrone2019-DET-test-dev.zip to 'C:\\Users\\Navdeep\\datasets\\VisDrone\\VisDrone2019-DET-test-dev.zip'...\n",
      "Downloading https://github.com/ultralytics/yolov5/releases/download/v1.0/VisDrone2019-DET-test-challenge.zip to 'C:\\Users\\Navdeep\\datasets\\VisDrone\\VisDrone2019-DET-test-challenge.zip'...\n"
     ]
    }
   ],
   "source": [
    "from pathlib import Path\n",
    "\n",
    "from ultralytics.utils.downloads import download\n",
    "\n",
    "dir = Path(r\"C:\\Users\\Navdeep\\datasets\\VisDrone\")  # dataset root dir\n",
    "urls = ['https://github.com/ultralytics/yolov5/releases/download/v1.0/VisDrone2019-DET-train.zip',\n",
    "          'https://github.com/ultralytics/yolov5/releases/download/v1.0/VisDrone2019-DET-val.zip',\n",
    "          'https://github.com/ultralytics/yolov5/releases/download/v1.0/VisDrone2019-DET-test-dev.zip',\n",
    "          'https://github.com/ultralytics/yolov5/releases/download/v1.0/VisDrone2019-DET-test-challenge.zip']\n",
    "download(urls, dir=dir, curl=True, threads=4)\n"
   ]
  },
  {
   "cell_type": "code",
   "execution_count": 16,
   "id": "7b7d5592",
   "metadata": {},
   "outputs": [],
   "source": [
    "def visdrone2yolo(dir):\n",
    "      from PIL import Image\n",
    "      from tqdm import tqdm\n",
    "\n",
    "      def convert_box(size, box):\n",
    "          # Convert VisDrone box to YOLO xywh box\n",
    "          dw = 1. / size[0]\n",
    "          dh = 1. / size[1]\n",
    "          return (box[0] + box[2] / 2) * dw, (box[1] + box[3] / 2) * dh, box[2] * dw, box[3] * dh\n",
    "\n",
    "      (dir / 'labels').mkdir(parents=True, exist_ok=True)  # make labels directory\n",
    "      pbar = tqdm((dir / 'annotations').glob('*.txt'), desc=f'Converting {dir}')\n",
    "      for f in pbar:\n",
    "          img_size = Image.open((dir / 'images' / f.name).with_suffix('.jpg')).size\n",
    "          lines = []\n",
    "          with open(f, 'r') as file:  # read annotation.txt\n",
    "              for row in [x.split(',') for x in file.read().strip().splitlines()]:\n",
    "                  if row[4] == '0':  # VisDrone 'ignored regions' class 0\n",
    "                      continue\n",
    "                  cls = int(row[5]) - 1\n",
    "                  box = convert_box(img_size, tuple(map(int, row[:4])))\n",
    "                  lines.append(f\"{cls} {' '.join(f'{x:.6f}' for x in box)}\\n\")\n",
    "                  with open(str(f).replace(f'{os.sep}annotations{os.sep}', f'{os.sep}labels{os.sep}'), 'w') as fl:\n",
    "                      fl.writelines(lines)  # write label.txt\n"
   ]
  },
  {
   "cell_type": "code",
   "execution_count": 17,
   "id": "a43cc72e",
   "metadata": {},
   "outputs": [
    {
     "name": "stderr",
     "output_type": "stream",
     "text": [
      "Converting C:\\Users\\Navdeep\\datasets\\VisDrone\\VisDrone2019-DET-train: 6471it [02:39, 40.56it/s] \n",
      "Converting C:\\Users\\Navdeep\\datasets\\VisDrone\\VisDrone2019-DET-val: 548it [00:17, 31.33it/s]\n",
      "Converting C:\\Users\\Navdeep\\datasets\\VisDrone\\VisDrone2019-DET-test-dev: 1610it [00:35, 45.68it/s]\n"
     ]
    }
   ],
   "source": [
    "# Convert\n",
    "import os\n",
    "for d in 'VisDrone2019-DET-train', 'VisDrone2019-DET-val', 'VisDrone2019-DET-test-dev':\n",
    "    visdrone2yolo(dir / d)  # convert VisDrone annotations to YOLO labels"
   ]
  },
  {
   "cell_type": "code",
   "execution_count": 1,
   "id": "c6e735b0",
   "metadata": {},
   "outputs": [
    {
     "name": "stdout",
     "output_type": "stream",
     "text": [
      "Using GPU: NVIDIA GeForce RTX 3060 Laptop GPU\n"
     ]
    }
   ],
   "source": [
    "import torch\n",
    "\n",
    "# Check the number of available GPUs\n",
    "num_gpus = torch.cuda.device_count()\n",
    "\n",
    "if num_gpus > 0:\n",
    "    # Set the active GPU to the first available GPU\n",
    "    torch.cuda.set_device(0)\n",
    "    print(f\"Using GPU: {torch.cuda.get_device_name(0)}\")\n",
    "else:\n",
    "    print(\"No GPUs available on this system.\")\n"
   ]
  },
  {
   "cell_type": "code",
   "execution_count": 2,
   "id": "a00fe4d8",
   "metadata": {},
   "outputs": [],
   "source": [
    "import os \n",
    "os.environ['KMP_DUPLICATE_LIB_OK']='True'"
   ]
  },
  {
   "cell_type": "code",
   "execution_count": 3,
   "id": "bbf86160",
   "metadata": {},
   "outputs": [
    {
     "name": "stdout",
     "output_type": "stream",
     "text": [
      "New https://pypi.org/project/ultralytics/8.1.2 available 😃 Update with 'pip install -U ultralytics'\n",
      "Ultralytics YOLOv8.1.0 🚀 Python-3.11.5 torch-2.1.2+cu121 CUDA:0 (NVIDIA GeForce RTX 3060 Laptop GPU, 6144MiB)\n",
      "\u001b[34m\u001b[1mengine\\trainer: \u001b[0mtask=detect, mode=train, model=C:\\Users\\Navdeep\\runs\\detect\\train13\\weights\\last.pt, data=VisDrone.yaml, epochs=100, time=None, patience=50, batch=16, imgsz=640, save=True, save_period=-1, cache=False, device=0, workers=0, project=None, name=train13, exist_ok=False, pretrained=True, optimizer=auto, verbose=True, seed=0, deterministic=True, single_cls=False, rect=False, cos_lr=False, close_mosaic=10, resume=False, amp=True, fraction=1.0, profile=False, freeze=None, multi_scale=False, overlap_mask=True, mask_ratio=4, dropout=0.0, val=True, split=val, save_json=False, save_hybrid=False, conf=None, iou=0.7, max_det=300, half=False, dnn=False, plots=True, source=None, vid_stride=1, stream_buffer=False, visualize=False, augment=False, agnostic_nms=False, classes=None, retina_masks=False, embed=None, show=False, save_frames=False, save_txt=False, save_conf=False, save_crop=False, show_labels=True, show_conf=True, show_boxes=True, line_width=None, format=torchscript, keras=False, optimize=False, int8=False, dynamic=False, simplify=False, opset=None, workspace=4, nms=False, lr0=0.01, lrf=0.01, momentum=0.937, weight_decay=0.0005, warmup_epochs=3.0, warmup_momentum=0.8, warmup_bias_lr=0.0, box=7.5, cls=0.5, dfl=1.5, pose=12.0, kobj=1.0, label_smoothing=0.0, nbs=64, hsv_h=0.015, hsv_s=0.7, hsv_v=0.4, degrees=0.0, translate=0.1, scale=0.5, shear=0.0, perspective=0.0, flipud=0.0, fliplr=0.5, mosaic=1.0, mixup=0.0, copy_paste=0.0, auto_augment=randaugment, erasing=0.4, crop_fraction=1.0, cfg=None, tracker=botsort.yaml, save_dir=runs\\detect\\train13\n",
      "WARNING:tensorflow:From C:\\Users\\Navdeep\\anaconda3\\Lib\\site-packages\\keras\\src\\losses.py:2976: The name tf.losses.sparse_softmax_cross_entropy is deprecated. Please use tf.compat.v1.losses.sparse_softmax_cross_entropy instead.\n",
      "\n",
      "\u001b[34m\u001b[1mTensorBoard: \u001b[0mStart with 'tensorboard --logdir runs\\detect\\train13', view at http://localhost:6006/\n",
      "\n",
      "                   from  n    params  module                                       arguments                     \n",
      "  0                  -1  1       464  ultralytics.nn.modules.conv.Conv             [3, 16, 3, 2]                 \n",
      "  1                  -1  1      4672  ultralytics.nn.modules.conv.Conv             [16, 32, 3, 2]                \n",
      "  2                  -1  1      7360  ultralytics.nn.modules.block.C2f             [32, 32, 1, True]             \n",
      "  3                  -1  1     18560  ultralytics.nn.modules.conv.Conv             [32, 64, 3, 2]                \n",
      "  4                  -1  2     49664  ultralytics.nn.modules.block.C2f             [64, 64, 2, True]             \n",
      "  5                  -1  1     73984  ultralytics.nn.modules.conv.Conv             [64, 128, 3, 2]               \n",
      "  6                  -1  2    197632  ultralytics.nn.modules.block.C2f             [128, 128, 2, True]           \n",
      "  7                  -1  1    295424  ultralytics.nn.modules.conv.Conv             [128, 256, 3, 2]              \n",
      "  8                  -1  1    460288  ultralytics.nn.modules.block.C2f             [256, 256, 1, True]           \n",
      "  9                  -1  1    164608  ultralytics.nn.modules.block.SPPF            [256, 256, 5]                 \n",
      " 10                  -1  1         0  torch.nn.modules.upsampling.Upsample         [None, 2, 'nearest']          \n",
      " 11             [-1, 6]  1         0  ultralytics.nn.modules.conv.Concat           [1]                           \n",
      " 12                  -1  1    148224  ultralytics.nn.modules.block.C2f             [384, 128, 1]                 \n",
      " 13                  -1  1         0  torch.nn.modules.upsampling.Upsample         [None, 2, 'nearest']          \n",
      " 14             [-1, 4]  1         0  ultralytics.nn.modules.conv.Concat           [1]                           \n",
      " 15                  -1  1     37248  ultralytics.nn.modules.block.C2f             [192, 64, 1]                  \n",
      " 16                  -1  1     36992  ultralytics.nn.modules.conv.Conv             [64, 64, 3, 2]                \n",
      " 17            [-1, 12]  1         0  ultralytics.nn.modules.conv.Concat           [1]                           \n",
      " 18                  -1  1    123648  ultralytics.nn.modules.block.C2f             [192, 128, 1]                 \n",
      " 19                  -1  1    147712  ultralytics.nn.modules.conv.Conv             [128, 128, 3, 2]              \n",
      " 20             [-1, 9]  1         0  ultralytics.nn.modules.conv.Concat           [1]                           \n",
      " 21                  -1  1    493056  ultralytics.nn.modules.block.C2f             [384, 256, 1]                 \n",
      " 22        [15, 18, 21]  1    753262  ultralytics.nn.modules.head.Detect           [10, [64, 128, 256]]          \n",
      "Model summary: 225 layers, 3012798 parameters, 3012782 gradients, 8.2 GFLOPs\n",
      "\n",
      "Transferred 355/355 items from pretrained weights\n",
      "Freezing layer 'model.22.dfl.conv.weight'\n",
      "\u001b[34m\u001b[1mAMP: \u001b[0mrunning Automatic Mixed Precision (AMP) checks with YOLOv8n...\n",
      "\u001b[34m\u001b[1mAMP: \u001b[0mchecks passed ✅\n"
     ]
    },
    {
     "name": "stderr",
     "output_type": "stream",
     "text": [
      "\u001b[34m\u001b[1mtrain: \u001b[0mScanning C:\\Users\\Navdeep\\datasets\\VisDrone\\VisDrone2019-DET-train\\labels.cache... 6471 images, 0 backgrounds, 0\u001b[0m"
     ]
    },
    {
     "name": "stdout",
     "output_type": "stream",
     "text": [
      "\u001b[34m\u001b[1mtrain: \u001b[0mWARNING ⚠️ C:\\Users\\Navdeep\\datasets\\VisDrone\\VisDrone2019-DET-train\\images\\0000137_02220_d_0000163.jpg: 1 duplicate labels removed\n",
      "\u001b[34m\u001b[1mtrain: \u001b[0mWARNING ⚠️ C:\\Users\\Navdeep\\datasets\\VisDrone\\VisDrone2019-DET-train\\images\\0000140_00118_d_0000002.jpg: 1 duplicate labels removed\n",
      "\u001b[34m\u001b[1mtrain: \u001b[0mWARNING ⚠️ C:\\Users\\Navdeep\\datasets\\VisDrone\\VisDrone2019-DET-train\\images\\9999945_00000_d_0000114.jpg: 1 duplicate labels removed\n",
      "\u001b[34m\u001b[1mtrain: \u001b[0mWARNING ⚠️ C:\\Users\\Navdeep\\datasets\\VisDrone\\VisDrone2019-DET-train\\images\\9999987_00000_d_0000049.jpg: 1 duplicate labels removed\n"
     ]
    },
    {
     "name": "stderr",
     "output_type": "stream",
     "text": [
      "\n",
      "\u001b[34m\u001b[1mval: \u001b[0mScanning C:\\Users\\Navdeep\\datasets\\VisDrone\\VisDrone2019-DET-val\\labels.cache... 548 images, 0 backgrounds, 0 corr\u001b[0m\n"
     ]
    },
    {
     "name": "stdout",
     "output_type": "stream",
     "text": [
      "Plotting labels to runs\\detect\\train13\\labels.jpg... \n",
      "\u001b[34m\u001b[1moptimizer:\u001b[0m 'optimizer=auto' found, ignoring 'lr0=0.01' and 'momentum=0.937' and determining best 'optimizer', 'lr0' and 'momentum' automatically... \n",
      "\u001b[34m\u001b[1moptimizer:\u001b[0m SGD(lr=0.01, momentum=0.9) with parameter groups 57 weight(decay=0.0), 64 weight(decay=0.0005), 63 bias(decay=0.0)\n",
      "Resuming training from C:\\Users\\Navdeep\\runs\\detect\\train13\\weights\\last.pt from epoch 87 to 100 total epochs\n",
      "100 epochs...\n",
      "\n",
      "      Epoch    GPU_mem   box_loss   cls_loss   dfl_loss  Instances       Size\n"
     ]
    },
    {
     "name": "stderr",
     "output_type": "stream",
     "text": [
      "     87/100      8.15G      1.322     0.9163     0.9017        481        640: 100%|██████████| 405/405 [06:21<00:00,  \n",
      "                 Class     Images  Instances      Box(P          R      mAP50  mAP50-95): 100%|██████████| 18/18 [00:17"
     ]
    },
    {
     "name": "stdout",
     "output_type": "stream",
     "text": [
      "                   all        548      38759      0.433      0.339      0.338      0.196\n"
     ]
    },
    {
     "name": "stderr",
     "output_type": "stream",
     "text": [
      "\n"
     ]
    },
    {
     "name": "stdout",
     "output_type": "stream",
     "text": [
      "\n",
      "      Epoch    GPU_mem   box_loss   cls_loss   dfl_loss  Instances       Size\n"
     ]
    },
    {
     "name": "stderr",
     "output_type": "stream",
     "text": [
      "     88/100      8.16G      1.324      0.915     0.9013        788        640: 100%|██████████| 405/405 [06:05<00:00,  \n",
      "                 Class     Images  Instances      Box(P          R      mAP50  mAP50-95): 100%|██████████| 18/18 [00:16\n"
     ]
    },
    {
     "name": "stdout",
     "output_type": "stream",
     "text": [
      "                   all        548      38759      0.439      0.333      0.336      0.196\n",
      "\n",
      "      Epoch    GPU_mem   box_loss   cls_loss   dfl_loss  Instances       Size\n"
     ]
    },
    {
     "name": "stderr",
     "output_type": "stream",
     "text": [
      "     89/100      9.87G      1.315     0.9122     0.9023        580        640: 100%|██████████| 405/405 [06:00<00:00,  \n",
      "                 Class     Images  Instances      Box(P          R      mAP50  mAP50-95): 100%|██████████| 18/18 [00:16\n"
     ]
    },
    {
     "name": "stdout",
     "output_type": "stream",
     "text": [
      "                   all        548      38759      0.436      0.336      0.337      0.196\n",
      "\n",
      "      Epoch    GPU_mem   box_loss   cls_loss   dfl_loss  Instances       Size\n"
     ]
    },
    {
     "name": "stderr",
     "output_type": "stream",
     "text": [
      "     90/100      7.47G      1.311      0.907     0.9006        653        640: 100%|██████████| 405/405 [13:16<00:00,  \n",
      "                 Class     Images  Instances      Box(P          R      mAP50  mAP50-95): 100%|██████████| 18/18 [00:24\n"
     ]
    },
    {
     "name": "stdout",
     "output_type": "stream",
     "text": [
      "                   all        548      38759      0.435      0.333      0.336      0.195\n",
      "Closing dataloader mosaic\n",
      "\n",
      "      Epoch    GPU_mem   box_loss   cls_loss   dfl_loss  Instances       Size\n"
     ]
    },
    {
     "name": "stderr",
     "output_type": "stream",
     "text": [
      "     91/100       9.7G      1.307     0.9009     0.9033        331        640: 100%|██████████| 405/405 [05:21<00:00,  \n",
      "                 Class     Images  Instances      Box(P          R      mAP50  mAP50-95): 100%|██████████| 18/18 [00:16\n"
     ]
    },
    {
     "name": "stdout",
     "output_type": "stream",
     "text": [
      "                   all        548      38759      0.443       0.33      0.333      0.194\n",
      "\n",
      "      Epoch    GPU_mem   box_loss   cls_loss   dfl_loss  Instances       Size\n"
     ]
    },
    {
     "name": "stderr",
     "output_type": "stream",
     "text": [
      "     92/100      7.86G      1.292     0.8848     0.9026        344        640: 100%|██████████| 405/405 [05:22<00:00,  \n",
      "                 Class     Images  Instances      Box(P          R      mAP50  mAP50-95): 100%|██████████| 18/18 [00:16\n"
     ]
    },
    {
     "name": "stdout",
     "output_type": "stream",
     "text": [
      "                   all        548      38759      0.444      0.332      0.334      0.194\n",
      "\n",
      "      Epoch    GPU_mem   box_loss   cls_loss   dfl_loss  Instances       Size\n"
     ]
    },
    {
     "name": "stderr",
     "output_type": "stream",
     "text": [
      "     93/100      9.62G      1.289     0.8782     0.9011        198        640: 100%|██████████| 405/405 [05:14<00:00,  \n",
      "                 Class     Images  Instances      Box(P          R      mAP50  mAP50-95): 100%|██████████| 18/18 [00:16\n"
     ]
    },
    {
     "name": "stdout",
     "output_type": "stream",
     "text": [
      "                   all        548      38759      0.445       0.33      0.334      0.194\n",
      "\n",
      "      Epoch    GPU_mem   box_loss   cls_loss   dfl_loss  Instances       Size\n"
     ]
    },
    {
     "name": "stderr",
     "output_type": "stream",
     "text": [
      "     94/100      7.38G      1.284     0.8732     0.9005        495        640: 100%|██████████| 405/405 [05:12<00:00,  \n",
      "                 Class     Images  Instances      Box(P          R      mAP50  mAP50-95): 100%|██████████| 18/18 [00:14\n"
     ]
    },
    {
     "name": "stdout",
     "output_type": "stream",
     "text": [
      "                   all        548      38759      0.441      0.333      0.334      0.194\n",
      "\n",
      "      Epoch    GPU_mem   box_loss   cls_loss   dfl_loss  Instances       Size\n"
     ]
    },
    {
     "name": "stderr",
     "output_type": "stream",
     "text": [
      "     95/100      7.74G      1.283     0.8715     0.9006        213        640: 100%|██████████| 405/405 [05:26<00:00,  \n",
      "                 Class     Images  Instances      Box(P          R      mAP50  mAP50-95): 100%|██████████| 18/18 [00:16\n"
     ]
    },
    {
     "name": "stdout",
     "output_type": "stream",
     "text": [
      "                   all        548      38759       0.44      0.333      0.334      0.195\n",
      "\n",
      "      Epoch    GPU_mem   box_loss   cls_loss   dfl_loss  Instances       Size\n"
     ]
    },
    {
     "name": "stderr",
     "output_type": "stream",
     "text": [
      "     96/100      8.13G      1.283     0.8684        0.9        340        640: 100%|██████████| 405/405 [05:16<00:00,  \n",
      "                 Class     Images  Instances      Box(P          R      mAP50  mAP50-95): 100%|██████████| 18/18 [00:16\n"
     ]
    },
    {
     "name": "stdout",
     "output_type": "stream",
     "text": [
      "                   all        548      38759      0.445      0.331      0.335      0.195\n",
      "\n",
      "      Epoch    GPU_mem   box_loss   cls_loss   dfl_loss  Instances       Size\n"
     ]
    },
    {
     "name": "stderr",
     "output_type": "stream",
     "text": [
      "     97/100       6.3G      1.279     0.8663     0.8993        200        640: 100%|██████████| 405/405 [05:11<00:00,  \n",
      "                 Class     Images  Instances      Box(P          R      mAP50  mAP50-95): 100%|██████████| 18/18 [00:13\n"
     ]
    },
    {
     "name": "stdout",
     "output_type": "stream",
     "text": [
      "                   all        548      38759      0.443       0.33      0.335      0.196\n",
      "\n",
      "      Epoch    GPU_mem   box_loss   cls_loss   dfl_loss  Instances       Size\n"
     ]
    },
    {
     "name": "stderr",
     "output_type": "stream",
     "text": [
      "     98/100      7.76G      1.278     0.8627        0.9        359        640: 100%|██████████| 405/405 [05:22<00:00,  \n",
      "                 Class     Images  Instances      Box(P          R      mAP50  mAP50-95): 100%|██████████| 18/18 [00:16\n"
     ]
    },
    {
     "name": "stdout",
     "output_type": "stream",
     "text": [
      "                   all        548      38759      0.443       0.33      0.335      0.196\n",
      "\n",
      "      Epoch    GPU_mem   box_loss   cls_loss   dfl_loss  Instances       Size\n"
     ]
    },
    {
     "name": "stderr",
     "output_type": "stream",
     "text": [
      "     99/100      8.17G      1.274     0.8605     0.8976        373        640: 100%|██████████| 405/405 [05:21<00:00,  \n",
      "                 Class     Images  Instances      Box(P          R      mAP50  mAP50-95): 100%|██████████| 18/18 [00:13\n"
     ]
    },
    {
     "name": "stdout",
     "output_type": "stream",
     "text": [
      "                   all        548      38759      0.436      0.334      0.335      0.195\n",
      "\n",
      "      Epoch    GPU_mem   box_loss   cls_loss   dfl_loss  Instances       Size\n"
     ]
    },
    {
     "name": "stderr",
     "output_type": "stream",
     "text": [
      "    100/100      6.68G       1.27     0.8576     0.8983        307        640: 100%|██████████| 405/405 [08:32<00:00,  \n",
      "                 Class     Images  Instances      Box(P          R      mAP50  mAP50-95): 100%|██████████| 18/18 [00:15\n"
     ]
    },
    {
     "name": "stdout",
     "output_type": "stream",
     "text": [
      "                   all        548      38759      0.433      0.335      0.335      0.195\n",
      "\n",
      "14 epochs completed in 1.537 hours.\n",
      "Optimizer stripped from runs\\detect\\train13\\weights\\last.pt, 6.2MB\n",
      "Optimizer stripped from runs\\detect\\train13\\weights\\best.pt, 6.2MB\n",
      "\n",
      "Validating runs\\detect\\train13\\weights\\best.pt...\n",
      "Ultralytics YOLOv8.1.0 🚀 Python-3.11.5 torch-2.1.2+cu121 CUDA:0 (NVIDIA GeForce RTX 3060 Laptop GPU, 6144MiB)\n",
      "Model summary (fused): 168 layers, 3007598 parameters, 0 gradients, 8.1 GFLOPs\n"
     ]
    },
    {
     "name": "stderr",
     "output_type": "stream",
     "text": [
      "                 Class     Images  Instances      Box(P          R      mAP50  mAP50-95): 100%|██████████| 18/18 [00:23\n"
     ]
    },
    {
     "name": "stdout",
     "output_type": "stream",
     "text": [
      "                   all        548      38759      0.442      0.336      0.338      0.197\n",
      "            pedestrian        548       8844       0.45      0.348       0.35       0.15\n",
      "                people        548       5125        0.5      0.236       0.28        0.1\n",
      "               bicycle        548       1287      0.195      0.112     0.0808     0.0314\n",
      "                   car        548      14064       0.64       0.75      0.758       0.52\n",
      "                   van        548       1975      0.468      0.381      0.386      0.266\n",
      "                 truck        548        750      0.468      0.299       0.32      0.212\n",
      "              tricycle        548       1045      0.403      0.251      0.229      0.124\n",
      "       awning-tricycle        548        532      0.276      0.154      0.127     0.0788\n",
      "                   bus        548        251      0.558      0.462      0.486      0.339\n",
      "                 motor        548       4886      0.461      0.369      0.368      0.152\n",
      "Speed: 0.4ms preprocess, 3.5ms inference, 0.0ms loss, 2.3ms postprocess per image\n",
      "Results saved to \u001b[1mruns\\detect\\train13\u001b[0m\n"
     ]
    }
   ],
   "source": [
    "from ultralytics import YOLO\n",
    "\n",
    "# Load a model\n",
    "model = YOLO(r'C:\\Users\\Navdeep\\runs\\detect\\train13\\weights\\last.pt')  # load a pretrained model (recommended for training)\n",
    "\n",
    "# Train the model\n",
    "results = model.train(resume = True)"
   ]
  },
  {
   "cell_type": "code",
   "execution_count": 3,
   "id": "7476d1c6",
   "metadata": {},
   "outputs": [
    {
     "name": "stdout",
     "output_type": "stream",
     "text": [
      "Collecting blosc2~=2.0.0\n",
      "  Downloading blosc2-2.0.0-cp311-cp311-win_amd64.whl (1.9 MB)\n",
      "     ---------------------------------------- 0.0/1.9 MB ? eta -:--:--\n",
      "     ---------------------------------------- 0.0/1.9 MB ? eta -:--:--\n",
      "      --------------------------------------- 0.0/1.9 MB 435.7 kB/s eta 0:00:05\n",
      "      --------------------------------------- 0.0/1.9 MB 393.8 kB/s eta 0:00:05\n",
      "      --------------------------------------- 0.0/1.9 MB 393.8 kB/s eta 0:00:05\n",
      "      --------------------------------------- 0.0/1.9 MB 393.8 kB/s eta 0:00:05\n",
      "     -- ------------------------------------- 0.1/1.9 MB 655.8 kB/s eta 0:00:03\n",
      "     ----- ---------------------------------- 0.3/1.9 MB 1.1 MB/s eta 0:00:02\n",
      "     ---------- ----------------------------- 0.5/1.9 MB 1.7 MB/s eta 0:00:01\n",
      "     ------------ --------------------------- 0.6/1.9 MB 1.9 MB/s eta 0:00:01\n",
      "     ------------------ --------------------- 0.9/1.9 MB 2.3 MB/s eta 0:00:01\n",
      "     -------------------- ------------------- 1.0/1.9 MB 2.5 MB/s eta 0:00:01\n",
      "     -------------------- ------------------- 1.0/1.9 MB 2.5 MB/s eta 0:00:01\n",
      "     --------------------- ------------------ 1.0/1.9 MB 2.0 MB/s eta 0:00:01\n",
      "     ----------------------- ---------------- 1.1/1.9 MB 2.1 MB/s eta 0:00:01\n",
      "     ------------------------------ --------- 1.5/1.9 MB 2.4 MB/s eta 0:00:01\n",
      "     ------------------------------------ --- 1.8/1.9 MB 2.7 MB/s eta 0:00:01\n",
      "     ---------------------------------------- 1.9/1.9 MB 2.8 MB/s eta 0:00:00\n",
      "Requirement already satisfied: msgpack in c:\\users\\navdeep\\anaconda3\\lib\\site-packages (from blosc2~=2.0.0) (1.0.3)\n",
      "Installing collected packages: blosc2\n",
      "Successfully installed blosc2-2.0.0\n"
     ]
    }
   ],
   "source": [
    "!pip install blosc2~=2.0.0"
   ]
  },
  {
   "cell_type": "code",
   "execution_count": 17,
   "id": "0c5a3ea3",
   "metadata": {},
   "outputs": [
    {
     "name": "stdout",
     "output_type": "stream",
     "text": [
      "Requirement already satisfied: boxmot in c:\\users\\navdeep\\appdata\\roaming\\python\\python311\\site-packages (10.0.51)\n",
      "Requirement already satisfied: filterpy>=1.4.5 in c:\\users\\navdeep\\appdata\\roaming\\python\\python311\\site-packages (from boxmot) (1.4.5)\n",
      "Requirement already satisfied: gdown==4.6.3 in c:\\users\\navdeep\\appdata\\roaming\\python\\python311\\site-packages (from boxmot) (4.6.3)\n",
      "Requirement already satisfied: GitPython>=3.1.0 in c:\\users\\navdeep\\appdata\\roaming\\python\\python311\\site-packages (from boxmot) (3.1.41)\n",
      "Requirement already satisfied: lapx>=0.5.4 in c:\\users\\navdeep\\appdata\\roaming\\python\\python311\\site-packages (from boxmot) (0.5.5)\n",
      "Requirement already satisfied: loguru>=0.7.0 in c:\\users\\navdeep\\appdata\\roaming\\python\\python311\\site-packages (from boxmot) (0.7.2)\n",
      "Requirement already satisfied: numpy==1.24.4 in c:\\users\\navdeep\\anaconda3\\lib\\site-packages (from boxmot) (1.24.4)\n",
      "Requirement already satisfied: opencv-python>=4.6.0 in c:\\users\\navdeep\\anaconda3\\lib\\site-packages (from boxmot) (4.8.1.78)\n",
      "Requirement already satisfied: pandas>=1.1.4 in c:\\users\\navdeep\\anaconda3\\lib\\site-packages (from boxmot) (2.0.3)\n",
      "Requirement already satisfied: pre-commit>=3.3.3 in c:\\users\\navdeep\\appdata\\roaming\\python\\python311\\site-packages (from boxmot) (3.6.0)\n",
      "Requirement already satisfied: PyYAML>=5.3.1 in c:\\users\\navdeep\\anaconda3\\lib\\site-packages (from boxmot) (6.0)\n",
      "Requirement already satisfied: regex>=2023.6.3 in c:\\users\\navdeep\\anaconda3\\lib\\site-packages (from boxmot) (2023.12.25)\n",
      "Requirement already satisfied: ftfy>=6.1.1 in c:\\users\\navdeep\\appdata\\roaming\\python\\python311\\site-packages (from boxmot) (6.1.3)\n",
      "Requirement already satisfied: scikit-learn>=1.3.0 in c:\\users\\navdeep\\anaconda3\\lib\\site-packages (from boxmot) (1.3.0)\n",
      "Requirement already satisfied: tensorboard>=2.13.0 in c:\\users\\navdeep\\anaconda3\\lib\\site-packages (from boxmot) (2.15.1)\n",
      "Requirement already satisfied: torch>=1.7.0 in c:\\users\\navdeep\\anaconda3\\lib\\site-packages (from boxmot) (2.1.2+cu121)\n",
      "Requirement already satisfied: torchvision>=0.8.1 in c:\\users\\navdeep\\anaconda3\\lib\\site-packages (from boxmot) (0.16.2+cu121)\n",
      "Requirement already satisfied: yacs>=0.1.8 in c:\\users\\navdeep\\anaconda3\\lib\\site-packages (from boxmot) (0.1.8)\n",
      "Requirement already satisfied: filelock in c:\\users\\navdeep\\appdata\\roaming\\python\\python311\\site-packages (from gdown==4.6.3->boxmot) (3.13.1)\n",
      "Requirement already satisfied: requests[socks] in c:\\users\\navdeep\\anaconda3\\lib\\site-packages (from gdown==4.6.3->boxmot) (2.31.0)\n",
      "Requirement already satisfied: six in c:\\users\\navdeep\\anaconda3\\lib\\site-packages (from gdown==4.6.3->boxmot) (1.16.0)\n",
      "Requirement already satisfied: tqdm in c:\\users\\navdeep\\anaconda3\\lib\\site-packages (from gdown==4.6.3->boxmot) (4.65.0)\n",
      "Requirement already satisfied: beautifulsoup4 in c:\\users\\navdeep\\anaconda3\\lib\\site-packages (from gdown==4.6.3->boxmot) (4.12.2)\n",
      "Requirement already satisfied: scipy in c:\\users\\navdeep\\anaconda3\\lib\\site-packages (from filterpy>=1.4.5->boxmot) (1.11.1)\n",
      "Requirement already satisfied: matplotlib in c:\\users\\navdeep\\anaconda3\\lib\\site-packages (from filterpy>=1.4.5->boxmot) (3.7.2)\n",
      "Requirement already satisfied: wcwidth<0.3.0,>=0.2.12 in c:\\users\\navdeep\\anaconda3\\lib\\site-packages (from ftfy>=6.1.1->boxmot) (0.2.13)\n",
      "Requirement already satisfied: gitdb<5,>=4.0.1 in c:\\users\\navdeep\\appdata\\roaming\\python\\python311\\site-packages (from GitPython>=3.1.0->boxmot) (4.0.11)\n",
      "Requirement already satisfied: Cython>=0.29.32 in c:\\users\\navdeep\\appdata\\roaming\\python\\python311\\site-packages (from lapx>=0.5.4->boxmot) (3.0.8)\n",
      "Requirement already satisfied: colorama>=0.3.4 in c:\\users\\navdeep\\anaconda3\\lib\\site-packages (from loguru>=0.7.0->boxmot) (0.4.6)\n",
      "Requirement already satisfied: win32-setctime>=1.0.0 in c:\\users\\navdeep\\anaconda3\\lib\\site-packages (from loguru>=0.7.0->boxmot) (1.1.0)\n",
      "Requirement already satisfied: python-dateutil>=2.8.2 in c:\\users\\navdeep\\anaconda3\\lib\\site-packages (from pandas>=1.1.4->boxmot) (2.8.2)\n",
      "Requirement already satisfied: pytz>=2020.1 in c:\\users\\navdeep\\anaconda3\\lib\\site-packages (from pandas>=1.1.4->boxmot) (2023.3.post1)\n",
      "Requirement already satisfied: tzdata>=2022.1 in c:\\users\\navdeep\\anaconda3\\lib\\site-packages (from pandas>=1.1.4->boxmot) (2023.3)\n",
      "Requirement already satisfied: cfgv>=2.0.0 in c:\\users\\navdeep\\appdata\\roaming\\python\\python311\\site-packages (from pre-commit>=3.3.3->boxmot) (3.4.0)\n",
      "Requirement already satisfied: identify>=1.0.0 in c:\\users\\navdeep\\appdata\\roaming\\python\\python311\\site-packages (from pre-commit>=3.3.3->boxmot) (2.5.33)\n",
      "Requirement already satisfied: nodeenv>=0.11.1 in c:\\users\\navdeep\\appdata\\roaming\\python\\python311\\site-packages (from pre-commit>=3.3.3->boxmot) (1.8.0)\n",
      "Requirement already satisfied: virtualenv>=20.10.0 in c:\\users\\navdeep\\appdata\\roaming\\python\\python311\\site-packages (from pre-commit>=3.3.3->boxmot) (20.25.0)\n",
      "Requirement already satisfied: joblib>=1.1.1 in c:\\users\\navdeep\\anaconda3\\lib\\site-packages (from scikit-learn>=1.3.0->boxmot) (1.2.0)\n",
      "Requirement already satisfied: threadpoolctl>=2.0.0 in c:\\users\\navdeep\\anaconda3\\lib\\site-packages (from scikit-learn>=1.3.0->boxmot) (2.2.0)\n",
      "Requirement already satisfied: absl-py>=0.4 in c:\\users\\navdeep\\anaconda3\\lib\\site-packages (from tensorboard>=2.13.0->boxmot) (2.0.0)\n",
      "Requirement already satisfied: grpcio>=1.48.2 in c:\\users\\navdeep\\anaconda3\\lib\\site-packages (from tensorboard>=2.13.0->boxmot) (1.60.0)\n",
      "Requirement already satisfied: google-auth<3,>=1.6.3 in c:\\users\\navdeep\\anaconda3\\lib\\site-packages (from tensorboard>=2.13.0->boxmot) (2.25.2)\n",
      "Requirement already satisfied: google-auth-oauthlib<2,>=0.5 in c:\\users\\navdeep\\anaconda3\\lib\\site-packages (from tensorboard>=2.13.0->boxmot) (1.2.0)\n",
      "Requirement already satisfied: markdown>=2.6.8 in c:\\users\\navdeep\\anaconda3\\lib\\site-packages (from tensorboard>=2.13.0->boxmot) (3.4.1)\n",
      "Requirement already satisfied: protobuf<4.24,>=3.19.6 in c:\\users\\navdeep\\anaconda3\\lib\\site-packages (from tensorboard>=2.13.0->boxmot) (4.23.4)\n",
      "Requirement already satisfied: setuptools>=41.0.0 in c:\\users\\navdeep\\anaconda3\\lib\\site-packages (from tensorboard>=2.13.0->boxmot) (68.0.0)\n",
      "Requirement already satisfied: tensorboard-data-server<0.8.0,>=0.7.0 in c:\\users\\navdeep\\anaconda3\\lib\\site-packages (from tensorboard>=2.13.0->boxmot) (0.7.2)\n",
      "Requirement already satisfied: werkzeug>=1.0.1 in c:\\users\\navdeep\\anaconda3\\lib\\site-packages (from tensorboard>=2.13.0->boxmot) (2.2.3)\n",
      "Requirement already satisfied: typing-extensions in c:\\users\\navdeep\\anaconda3\\lib\\site-packages (from torch>=1.7.0->boxmot) (4.7.1)\n",
      "Requirement already satisfied: sympy in c:\\users\\navdeep\\anaconda3\\lib\\site-packages (from torch>=1.7.0->boxmot) (1.11.1)\n",
      "Requirement already satisfied: networkx in c:\\users\\navdeep\\anaconda3\\lib\\site-packages (from torch>=1.7.0->boxmot) (3.1)\n",
      "Requirement already satisfied: jinja2 in c:\\users\\navdeep\\anaconda3\\lib\\site-packages (from torch>=1.7.0->boxmot) (3.1.2)\n",
      "Requirement already satisfied: fsspec in c:\\users\\navdeep\\anaconda3\\lib\\site-packages (from torch>=1.7.0->boxmot) (2023.4.0)\n",
      "Requirement already satisfied: pillow!=8.3.*,>=5.3.0 in c:\\users\\navdeep\\anaconda3\\lib\\site-packages (from torchvision>=0.8.1->boxmot) (9.4.0)\n",
      "Requirement already satisfied: smmap<6,>=3.0.1 in c:\\users\\navdeep\\anaconda3\\lib\\site-packages (from gitdb<5,>=4.0.1->GitPython>=3.1.0->boxmot) (5.0.1)\n",
      "Requirement already satisfied: cachetools<6.0,>=2.0.0 in c:\\users\\navdeep\\anaconda3\\lib\\site-packages (from google-auth<3,>=1.6.3->tensorboard>=2.13.0->boxmot) (5.3.2)\n",
      "Requirement already satisfied: pyasn1-modules>=0.2.1 in c:\\users\\navdeep\\anaconda3\\lib\\site-packages (from google-auth<3,>=1.6.3->tensorboard>=2.13.0->boxmot) (0.2.8)\n",
      "Requirement already satisfied: rsa<5,>=3.1.4 in c:\\users\\navdeep\\anaconda3\\lib\\site-packages (from google-auth<3,>=1.6.3->tensorboard>=2.13.0->boxmot) (4.9)\n",
      "Requirement already satisfied: requests-oauthlib>=0.7.0 in c:\\users\\navdeep\\anaconda3\\lib\\site-packages (from google-auth-oauthlib<2,>=0.5->tensorboard>=2.13.0->boxmot) (1.3.1)\n",
      "Requirement already satisfied: charset-normalizer<4,>=2 in c:\\users\\navdeep\\anaconda3\\lib\\site-packages (from requests[socks]->gdown==4.6.3->boxmot) (2.0.4)\n",
      "Requirement already satisfied: idna<4,>=2.5 in c:\\users\\navdeep\\anaconda3\\lib\\site-packages (from requests[socks]->gdown==4.6.3->boxmot) (3.4)\n",
      "Requirement already satisfied: urllib3<3,>=1.21.1 in c:\\users\\navdeep\\anaconda3\\lib\\site-packages (from requests[socks]->gdown==4.6.3->boxmot) (1.26.16)\n",
      "Requirement already satisfied: certifi>=2017.4.17 in c:\\users\\navdeep\\anaconda3\\lib\\site-packages (from requests[socks]->gdown==4.6.3->boxmot) (2023.7.22)\n",
      "Requirement already satisfied: distlib<1,>=0.3.7 in c:\\users\\navdeep\\anaconda3\\lib\\site-packages (from virtualenv>=20.10.0->pre-commit>=3.3.3->boxmot) (0.3.8)\n",
      "Requirement already satisfied: platformdirs<5,>=3.9.1 in c:\\users\\navdeep\\anaconda3\\lib\\site-packages (from virtualenv>=20.10.0->pre-commit>=3.3.3->boxmot) (3.10.0)\n",
      "Requirement already satisfied: MarkupSafe>=2.1.1 in c:\\users\\navdeep\\anaconda3\\lib\\site-packages (from werkzeug>=1.0.1->tensorboard>=2.13.0->boxmot) (2.1.1)\n",
      "Requirement already satisfied: soupsieve>1.2 in c:\\users\\navdeep\\anaconda3\\lib\\site-packages (from beautifulsoup4->gdown==4.6.3->boxmot) (2.4)\n",
      "Requirement already satisfied: contourpy>=1.0.1 in c:\\users\\navdeep\\anaconda3\\lib\\site-packages (from matplotlib->filterpy>=1.4.5->boxmot) (1.0.5)\n",
      "Requirement already satisfied: cycler>=0.10 in c:\\users\\navdeep\\anaconda3\\lib\\site-packages (from matplotlib->filterpy>=1.4.5->boxmot) (0.11.0)\n",
      "Requirement already satisfied: fonttools>=4.22.0 in c:\\users\\navdeep\\anaconda3\\lib\\site-packages (from matplotlib->filterpy>=1.4.5->boxmot) (4.25.0)\n",
      "Requirement already satisfied: kiwisolver>=1.0.1 in c:\\users\\navdeep\\anaconda3\\lib\\site-packages (from matplotlib->filterpy>=1.4.5->boxmot) (1.4.4)\n",
      "Requirement already satisfied: packaging>=20.0 in c:\\users\\navdeep\\anaconda3\\lib\\site-packages (from matplotlib->filterpy>=1.4.5->boxmot) (23.1)\n",
      "Requirement already satisfied: pyparsing<3.1,>=2.3.1 in c:\\users\\navdeep\\anaconda3\\lib\\site-packages (from matplotlib->filterpy>=1.4.5->boxmot) (3.0.9)\n",
      "Requirement already satisfied: PySocks!=1.5.7,>=1.5.6 in c:\\users\\navdeep\\anaconda3\\lib\\site-packages (from requests[socks]->gdown==4.6.3->boxmot) (1.7.1)\n",
      "Requirement already satisfied: mpmath>=0.19 in c:\\users\\navdeep\\anaconda3\\lib\\site-packages (from sympy->torch>=1.7.0->boxmot) (1.3.0)\n",
      "Requirement already satisfied: pyasn1<0.5.0,>=0.4.6 in c:\\users\\navdeep\\anaconda3\\lib\\site-packages (from pyasn1-modules>=0.2.1->google-auth<3,>=1.6.3->tensorboard>=2.13.0->boxmot) (0.4.8)\n",
      "Requirement already satisfied: oauthlib>=3.0.0 in c:\\users\\navdeep\\anaconda3\\lib\\site-packages (from requests-oauthlib>=0.7.0->google-auth-oauthlib<2,>=0.5->tensorboard>=2.13.0->boxmot) (3.2.2)\n"
     ]
    }
   ],
   "source": [
    "!pip install boxmot"
   ]
  },
  {
   "cell_type": "code",
   "execution_count": 9,
   "id": "aed2070c",
   "metadata": {},
   "outputs": [
    {
     "name": "stdout",
     "output_type": "stream",
     "text": [
      "Package                       Version\n",
      "----------------------------- --------------------\n",
      "absl-py                       2.0.0\n",
      "aiobotocore                   2.5.0\n",
      "aiofiles                      22.1.0\n",
      "aiohttp                       3.8.5\n",
      "aioitertools                  0.7.1\n",
      "aiosignal                     1.2.0\n",
      "aiosqlite                     0.18.0\n",
      "alabaster                     0.7.12\n",
      "anaconda-anon-usage           0.4.2\n",
      "anaconda-catalogs             0.2.0\n",
      "anaconda-client               1.12.1\n",
      "anaconda-cloud-auth           0.1.3\n",
      "anaconda-navigator            2.5.0\n",
      "anaconda-project              0.11.1\n",
      "anyio                         3.5.0\n",
      "appdirs                       1.4.4\n",
      "argon2-cffi                   21.3.0\n",
      "argon2-cffi-bindings          21.2.0\n",
      "arrow                         1.2.3\n",
      "astroid                       2.14.2\n",
      "astropy                       5.1\n",
      "asttokens                     2.0.5\n",
      "astunparse                    1.6.3\n",
      "async-timeout                 4.0.2\n",
      "atomicwrites                  1.4.0\n",
      "attrs                         22.1.0\n",
      "Automat                       20.2.0\n",
      "autopep8                      1.6.0\n",
      "Babel                         2.11.0\n",
      "backcall                      0.2.0\n",
      "backports.functools-lru-cache 1.6.4\n",
      "backports.tempfile            1.0\n",
      "backports.weakref             1.0.post1\n",
      "bcrypt                        3.2.0\n",
      "beautifulsoup4                4.12.2\n",
      "binaryornot                   0.4.4\n",
      "black                         0.0\n",
      "bleach                        4.1.0\n",
      "blosc2                        2.0.0\n",
      "bokeh                         3.2.1\n",
      "boltons                       23.0.0\n",
      "botocore                      1.29.76\n",
      "Bottleneck                    1.3.5\n",
      "brotlipy                      0.7.0\n",
      "cachetools                    5.3.2\n",
      "certifi                       2023.7.22\n",
      "cffi                          1.15.1\n",
      "chardet                       4.0.0\n",
      "charset-normalizer            2.0.4\n",
      "click                         8.0.4\n",
      "cloudpickle                   2.2.1\n",
      "clyent                        1.2.2\n",
      "colorama                      0.4.6\n",
      "colorcet                      3.0.1\n",
      "comm                          0.1.2\n",
      "conda                         23.7.4\n",
      "conda-build                   3.26.1\n",
      "conda-content-trust           0.2.0\n",
      "conda_index                   0.3.0\n",
      "conda-libmamba-solver         23.7.0\n",
      "conda-pack                    0.6.0\n",
      "conda-package-handling        2.2.0\n",
      "conda_package_streaming       0.9.0\n",
      "conda-repo-cli                1.0.75\n",
      "conda-token                   0.4.0\n",
      "conda-verify                  3.4.2\n",
      "constantly                    15.1.0\n",
      "contourpy                     1.0.5\n",
      "cookiecutter                  1.7.3\n",
      "cryptography                  41.0.3\n",
      "cssselect                     1.1.0\n",
      "cycler                        0.11.0\n",
      "cytoolz                       0.12.0\n",
      "daal4py                       2023.1.1\n",
      "dask                          2023.6.0\n",
      "datasets                      2.12.0\n",
      "datashader                    0.15.2\n",
      "datashape                     0.5.4\n",
      "debugpy                       1.6.7\n",
      "decorator                     5.1.1\n",
      "defusedxml                    0.7.1\n",
      "diff-match-patch              20200713\n",
      "dill                          0.3.6\n",
      "distlib                       0.3.8\n",
      "distributed                   2023.6.0\n",
      "docstring-to-markdown         0.11\n",
      "docutils                      0.18.1\n",
      "entrypoints                   0.4\n",
      "et-xmlfile                    1.1.0\n",
      "executing                     0.8.3\n",
      "fastjsonschema                2.16.2\n",
      "filelock                      3.9.0\n",
      "flake8                        6.0.0\n",
      "Flask                         2.2.2\n",
      "flatbuffers                   23.5.26\n",
      "fonttools                     4.25.0\n",
      "frozenlist                    1.3.3\n",
      "fsspec                        2023.4.0\n",
      "future                        0.18.3\n",
      "gast                          0.5.4\n",
      "gensim                        4.3.0\n",
      "glob2                         0.7\n",
      "google-auth                   2.25.2\n",
      "google-auth-oauthlib          1.2.0\n",
      "google-pasta                  0.2.0\n",
      "greenlet                      2.0.1\n",
      "grpcio                        1.60.0\n",
      "h5py                          3.9.0\n",
      "HeapDict                      1.0.1\n",
      "holoviews                     1.17.1\n",
      "hub-sdk                       0.0.3\n",
      "huggingface-hub               0.15.1\n",
      "hvplot                        0.8.4\n",
      "hyperlink                     21.0.0\n",
      "idna                          3.4\n",
      "imagecodecs                   2023.1.23\n",
      "imageio                       2.26.0\n",
      "imagesize                     1.4.1\n",
      "imbalanced-learn              0.10.1\n",
      "importlib-metadata            6.0.0\n",
      "incremental                   21.3.0\n",
      "inflection                    0.5.1\n",
      "iniconfig                     1.1.1\n",
      "intake                        0.6.8\n",
      "intervaltree                  3.1.0\n",
      "ipykernel                     6.25.0\n",
      "ipython                       8.15.0\n",
      "ipython-genutils              0.2.0\n",
      "ipywidgets                    8.0.4\n",
      "isort                         5.9.3\n",
      "itemadapter                   0.3.0\n",
      "itemloaders                   1.0.4\n",
      "itsdangerous                  2.0.1\n",
      "jaraco.classes                3.2.1\n",
      "jedi                          0.18.1\n",
      "jellyfish                     1.0.1\n",
      "Jinja2                        3.1.2\n",
      "jinja2-time                   0.2.0\n",
      "jmespath                      0.10.0\n",
      "joblib                        1.2.0\n",
      "json5                         0.9.6\n",
      "jsonpatch                     1.32\n",
      "jsonpointer                   2.1\n",
      "jsonschema                    4.17.3\n",
      "jupyter                       1.0.0\n",
      "jupyter_client                7.4.9\n",
      "jupyter-console               6.6.3\n",
      "jupyter_core                  5.3.0\n",
      "jupyter-events                0.6.3\n",
      "jupyter-server                1.23.4\n",
      "jupyter_server_fileid         0.9.0\n",
      "jupyter_server_ydoc           0.8.0\n",
      "jupyter-ydoc                  0.2.4\n",
      "jupyterlab                    3.6.3\n",
      "jupyterlab-pygments           0.1.2\n",
      "jupyterlab_server             2.22.0\n",
      "jupyterlab-widgets            3.0.5\n",
      "kaleido                       0.2.1\n",
      "keras                         2.15.0\n",
      "keyring                       23.13.1\n",
      "kiwisolver                    1.4.4\n",
      "lazy_loader                   0.2\n",
      "lazy-object-proxy             1.6.0\n",
      "libarchive-c                  2.9\n",
      "libclang                      16.0.6\n",
      "libmambapy                    1.5.1\n",
      "linkify-it-py                 2.0.0\n",
      "llvmlite                      0.40.0\n",
      "lmdb                          1.4.1\n",
      "locket                        1.0.0\n",
      "lxml                          4.9.3\n",
      "lz4                           4.3.2\n",
      "Markdown                      3.4.1\n",
      "markdown-it-py                2.2.0\n",
      "MarkupSafe                    2.1.1\n",
      "matplotlib                    3.7.2\n",
      "matplotlib-inline             0.1.6\n",
      "mccabe                        0.7.0\n",
      "mdit-py-plugins               0.3.0\n",
      "mdurl                         0.1.0\n",
      "menuinst                      1.4.19\n",
      "mistune                       0.8.4\n",
      "mkl-fft                       1.3.8\n",
      "mkl-random                    1.2.4\n",
      "mkl-service                   2.4.0\n",
      "ml-dtypes                     0.2.0\n",
      "more-itertools                8.12.0\n",
      "mpmath                        1.3.0\n",
      "msgpack                       1.0.3\n",
      "multidict                     6.0.2\n",
      "multipledispatch              0.6.0\n",
      "multiprocess                  0.70.14\n",
      "munkres                       1.1.4\n",
      "mypy-extensions               1.0.0\n",
      "navigator-updater             0.4.0\n",
      "nbclassic                     0.5.5\n",
      "nbclient                      0.5.13\n",
      "nbconvert                     6.5.4\n",
      "nbformat                      5.9.2\n",
      "nest-asyncio                  1.5.6\n",
      "networkx                      3.1\n",
      "nltk                          3.8.1\n",
      "notebook                      6.5.4\n",
      "notebook_shim                 0.2.2\n",
      "numba                         0.57.1\n",
      "numexpr                       2.8.4\n",
      "numpy                         1.24.4\n",
      "numpydoc                      1.5.0\n",
      "oauthlib                      3.2.2\n",
      "opencv-python                 4.8.1.78\n",
      "openpyxl                      3.0.10\n",
      "opt-einsum                    3.3.0\n",
      "packaging                     23.1\n",
      "pandas                        2.0.3\n",
      "pandocfilters                 1.5.0\n",
      "panel                         1.2.3\n",
      "param                         1.13.0\n",
      "paramiko                      2.8.1\n",
      "parsel                        1.6.0\n",
      "parso                         0.8.3\n",
      "partd                         1.4.0\n",
      "pathlib                       1.0.1\n",
      "pathspec                      0.10.3\n",
      "patsy                         0.5.3\n",
      "pep8                          1.7.1\n",
      "pexpect                       4.8.0\n",
      "pickleshare                   0.7.5\n",
      "Pillow                        9.4.0\n",
      "pip                           23.2.1\n",
      "pkce                          1.0.3\n",
      "pkginfo                       1.9.6\n",
      "platformdirs                  3.10.0\n",
      "plotly                        5.9.0\n",
      "pluggy                        1.0.0\n",
      "ply                           3.11\n",
      "poyo                          0.5.0\n",
      "prometheus-client             0.14.1\n",
      "prompt-toolkit                3.0.36\n",
      "Protego                       0.1.16\n",
      "protobuf                      4.23.4\n",
      "psutil                        5.9.0\n",
      "ptyprocess                    0.7.0\n",
      "pure-eval                     0.2.2\n",
      "py-cpuinfo                    8.0.0\n",
      "pyarrow                       11.0.0\n",
      "pyasn1                        0.4.8\n",
      "pyasn1-modules                0.2.8\n",
      "pycodestyle                   2.10.0\n",
      "pycosat                       0.6.4\n",
      "pycparser                     2.21\n",
      "pyct                          0.5.0\n",
      "pycurl                        7.45.2\n",
      "pydantic                      1.10.8\n",
      "PyDispatcher                  2.0.5\n",
      "pydocstyle                    6.3.0\n",
      "pyerfa                        2.0.0\n",
      "pyflakes                      3.0.1\n",
      "Pygments                      2.15.1\n",
      "PyJWT                         2.4.0\n",
      "pylint                        2.16.2\n",
      "pylint-venv                   2.3.0\n",
      "pyls-spyder                   0.4.0\n",
      "PyNaCl                        1.5.0\n",
      "pyodbc                        4.0.34\n",
      "pyOpenSSL                     23.2.0\n",
      "pyparsing                     3.0.9\n",
      "PyQt5                         5.15.7\n",
      "PyQt5-sip                     12.11.0\n",
      "PyQtWebEngine                 5.15.4\n",
      "pyrsistent                    0.18.0\n",
      "PySocks                       1.7.1\n",
      "pytest                        7.4.0\n",
      "python-dateutil               2.8.2\n",
      "python-dotenv                 0.21.0\n",
      "python-json-logger            2.0.7\n",
      "python-lsp-black              1.2.1\n",
      "python-lsp-jsonrpc            1.0.0\n",
      "python-lsp-server             1.7.2\n",
      "python-slugify                5.0.2\n",
      "python-snappy                 0.6.1\n",
      "pytoolconfig                  1.2.5\n",
      "pytz                          2023.3.post1\n",
      "pyviz-comms                   2.3.0\n",
      "PyWavelets                    1.4.1\n",
      "pywin32                       305.1\n",
      "pywin32-ctypes                0.2.0\n",
      "pywinpty                      2.0.10\n",
      "PyYAML                        6.0\n",
      "pyzmq                         23.2.0\n",
      "QDarkStyle                    3.0.2\n",
      "qstylizer                     0.2.2\n",
      "QtAwesome                     1.2.2\n",
      "qtconsole                     5.4.2\n",
      "QtPy                          2.2.0\n",
      "queuelib                      1.5.0\n",
      "regex                         2023.12.25\n",
      "requests                      2.31.0\n",
      "requests-file                 1.5.1\n",
      "requests-oauthlib             1.3.1\n",
      "requests-toolbelt             1.0.0\n",
      "responses                     0.13.3\n",
      "rfc3339-validator             0.1.4\n",
      "rfc3986-validator             0.1.1\n",
      "rope                          1.7.0\n",
      "rsa                           4.9\n",
      "Rtree                         1.0.1\n",
      "ruamel.yaml                   0.17.21\n",
      "ruamel-yaml-conda             0.17.21\n",
      "s3fs                          2023.4.0\n",
      "safetensors                   0.3.2\n",
      "scikit-image                  0.20.0\n",
      "scikit-learn                  1.3.0\n",
      "scikit-learn-intelex          20230426.121932\n",
      "scipy                         1.11.1\n",
      "Scrapy                        2.8.0\n",
      "seaborn                       0.12.2\n",
      "Send2Trash                    1.8.0\n",
      "service-identity              18.1.0\n",
      "setuptools                    68.0.0\n",
      "sip                           6.6.2\n",
      "six                           1.16.0\n",
      "smart-open                    5.2.1\n",
      "smmap                         5.0.1\n",
      "sniffio                       1.2.0\n",
      "snowballstemmer               2.2.0\n",
      "sortedcontainers              2.4.0\n",
      "soupsieve                     2.4\n",
      "Sphinx                        5.0.2\n",
      "sphinxcontrib-applehelp       1.0.2\n",
      "sphinxcontrib-devhelp         1.0.2\n",
      "sphinxcontrib-htmlhelp        2.0.0\n",
      "sphinxcontrib-jsmath          1.0.1\n",
      "sphinxcontrib-qthelp          1.0.3\n",
      "sphinxcontrib-serializinghtml 1.1.5\n",
      "spyder                        5.4.3\n",
      "spyder-kernels                2.4.4\n",
      "SQLAlchemy                    1.4.39\n",
      "stack-data                    0.2.0\n",
      "statsmodels                   0.14.0\n",
      "sympy                         1.11.1\n",
      "tables                        3.8.0\n",
      "tabulate                      0.8.10\n",
      "TBB                           0.2\n",
      "tblib                         1.7.0\n",
      "tenacity                      8.2.2\n",
      "tensorboard                   2.15.1\n",
      "tensorboard-data-server       0.7.2\n",
      "tensorflow                    2.15.0\n",
      "tensorflow-estimator          2.15.0\n",
      "tensorflow-intel              2.15.0\n",
      "tensorflow-io-gcs-filesystem  0.31.0\n",
      "termcolor                     2.4.0\n",
      "terminado                     0.17.1\n",
      "text-unidecode                1.3\n",
      "textdistance                  4.2.1\n",
      "thop                          0.1.1.post2209072238\n",
      "threadpoolctl                 2.2.0\n",
      "three-merge                   0.1.1\n",
      "tifffile                      2023.4.12\n",
      "tinycss2                      1.2.1\n",
      "tldextract                    3.2.0\n",
      "tokenizers                    0.13.2\n",
      "toml                          0.10.2\n",
      "tomlkit                       0.11.1\n",
      "toolz                         0.12.0\n",
      "torch                         2.1.2+cu121\n",
      "torchaudio                    2.1.2+cu121\n",
      "torchvision                   0.16.2+cu121\n",
      "tornado                       6.3.2\n",
      "tqdm                          4.65.0\n",
      "traitlets                     5.7.1\n",
      "transformers                  4.32.1\n",
      "Twisted                       22.10.0\n",
      "twisted-iocpsupport           1.0.2\n",
      "typing_extensions             4.7.1\n",
      "tzdata                        2023.3\n",
      "uc-micro-py                   1.0.1\n",
      "ujson                         5.4.0\n",
      "ultralytics                   8.1.0\n",
      "Unidecode                     1.2.0\n",
      "urllib3                       1.26.16\n",
      "w3lib                         1.21.0\n",
      "watchdog                      2.1.6\n",
      "wcwidth                       0.2.13\n",
      "webencodings                  0.5.1\n",
      "websocket-client              0.58.0\n",
      "Werkzeug                      2.2.3\n",
      "whatthepatch                  1.0.2\n",
      "wheel                         0.38.4\n",
      "widgetsnbextension            4.0.5\n",
      "win-inet-pton                 1.1.0\n",
      "win32-setctime                1.1.0\n",
      "wrapt                         1.14.1\n",
      "xarray                        2023.6.0\n",
      "xlwings                       0.29.1\n",
      "xxhash                        2.0.2\n",
      "xyzservices                   2022.9.0\n",
      "y-py                          0.5.9\n",
      "yacs                          0.1.8\n",
      "yapf                          0.31.0\n",
      "yarl                          1.8.1\n",
      "ypy-websocket                 0.8.2\n",
      "zict                          2.2.0\n",
      "zipp                          3.11.0\n",
      "zope.interface                5.4.0\n",
      "zstandard                     0.19.0\n"
     ]
    }
   ],
   "source": [
    "!pip list --path C:\\Users\\Navdeep\\anaconda3\\Lib\\site-packages"
   ]
  },
  {
   "cell_type": "code",
   "execution_count": 7,
   "id": "e24fc62e",
   "metadata": {},
   "outputs": [
    {
     "ename": "ModuleNotFoundError",
     "evalue": "No module named 'boxmot'",
     "output_type": "error",
     "traceback": [
      "\u001b[1;31m---------------------------------------------------------------------------\u001b[0m",
      "\u001b[1;31mModuleNotFoundError\u001b[0m                       Traceback (most recent call last)",
      "Cell \u001b[1;32mIn[7], line 1\u001b[0m\n\u001b[1;32m----> 1\u001b[0m \u001b[38;5;28;01mimport\u001b[39;00m \u001b[38;5;21;01mboxmot\u001b[39;00m\n",
      "\u001b[1;31mModuleNotFoundError\u001b[0m: No module named 'boxmot'"
     ]
    }
   ],
   "source": [
    "import boxmot"
   ]
  },
  {
   "cell_type": "code",
   "execution_count": 13,
   "id": "d4426075",
   "metadata": {},
   "outputs": [
    {
     "name": "stdout",
     "output_type": "stream",
     "text": [
      "Name: blosc2\n",
      "Version: 2.0.0\n",
      "Summary: Python wrapper for the C-Blosc2 library.\n",
      "Home-page: https://github.com/Blosc/python-blosc2\n",
      "Author: Blosc Development Team\n",
      "Author-email: blosc@blosc.org\n",
      "License: https://opensource.org/licenses/BSD-3-Clause\n",
      "Location: C:\\Users\\Navdeep\\anaconda3\\Lib\\site-packages\n",
      "Requires: msgpack\n",
      "Required-by: tables\n"
     ]
    }
   ],
   "source": [
    "!pip show blosc2"
   ]
  },
  {
   "cell_type": "code",
   "execution_count": 11,
   "id": "0100242c",
   "metadata": {},
   "outputs": [
    {
     "name": "stdout",
     "output_type": "stream",
     "text": [
      "Name: filterpy\n",
      "Version: 1.4.5\n",
      "Summary: Kalman filtering and optimal estimation library\n",
      "Home-page: https://github.com/rlabbe/filterpy\n",
      "Author: Roger Labbe\n",
      "Author-email: rlabbejr@gmail.com\n",
      "License: MIT\n",
      "Location: C:\\Users\\Navdeep\\AppData\\Roaming\\Python\\Python311\\site-packages\n",
      "Requires: matplotlib, numpy, scipy\n",
      "Required-by: boxmot\n"
     ]
    }
   ],
   "source": [
    "!pip show filterpy"
   ]
  },
  {
   "cell_type": "code",
   "execution_count": 15,
   "id": "dc5790f7",
   "metadata": {},
   "outputs": [
    {
     "name": "stdout",
     "output_type": "stream",
     "text": [
      "^C\n"
     ]
    }
   ],
   "source": [
    "!pip uninstall boxmot"
   ]
  },
  {
   "cell_type": "code",
   "execution_count": 18,
   "id": "3a8f9e2a",
   "metadata": {},
   "outputs": [
    {
     "name": "stdout",
     "output_type": "stream",
     "text": [
      "Name: boxmot\n",
      "Version: 10.0.51\n",
      "Summary: SOTA tracking methods for detection, segmentation and pose estimation models.\n",
      "Home-page: https://github.com/mikel-brostrom/yolo_tracking\n",
      "Author: Mikel Broström\n",
      "Author-email: yolov5.deepsort.pytorch@gmail.com\n",
      "License: AGPL-3.0\n",
      "Location: C:\\Users\\Navdeep\\AppData\\Roaming\\Python\\Python311\\site-packages\n",
      "Requires: filterpy, ftfy, gdown, GitPython, lapx, loguru, numpy, opencv-python, pandas, pre-commit, PyYAML, regex, scikit-learn, tensorboard, torch, torchvision, yacs\n",
      "Required-by: \n"
     ]
    }
   ],
   "source": [
    "!pip show boxmot"
   ]
  },
  {
   "cell_type": "code",
   "execution_count": 19,
   "id": "87098a51",
   "metadata": {},
   "outputs": [],
   "source": [
    "import sys\n",
    "sys.path.append(r'C:\\Users\\Navdeep\\AppData\\Roaming\\Python\\Python311\\site-packages')"
   ]
  },
  {
   "cell_type": "code",
   "execution_count": 21,
   "id": "2dd158e0",
   "metadata": {},
   "outputs": [
    {
     "name": "stderr",
     "output_type": "stream",
     "text": [
      "Downloading...\n",
      "From: https://drive.google.com/uc?id=1sSwXSUlj4_tHZequ_iZ8w_Jh0VaRQMqF\n",
      "To: C:\\Users\\Navdeep\\osnet_x0_25_msmt17.pt\n",
      "100%|█████████████████████████████████████████████████████████████████████████████| 3.06M/3.06M [00:01<00:00, 3.06MB/s]\n",
      "\u001b[32m2024-01-17 13:41:21.096\u001b[0m | \u001b[32m\u001b[1mSUCCESS \u001b[0m | \u001b[36mboxmot.appearance.reid_model_factory\u001b[0m:\u001b[36mload_pretrained_weights\u001b[0m:\u001b[36m207\u001b[0m - \u001b[32m\u001b[1mSuccessfully loaded pretrained weights from \"osnet_x0_25_msmt17.pt\"\u001b[0m\n",
      "\u001b[32m2024-01-17 13:41:21.098\u001b[0m | \u001b[33m\u001b[1mWARNING \u001b[0m | \u001b[36mboxmot.appearance.reid_model_factory\u001b[0m:\u001b[36mload_pretrained_weights\u001b[0m:\u001b[36m211\u001b[0m - \u001b[33m\u001b[1mThe following layers are discarded due to unmatched keys or layer size: ('classifier.weight', 'classifier.bias')\u001b[0m\n"
     ]
    }
   ],
   "source": [
    "import cv2\n",
    "import numpy as np\n",
    "from pathlib import Path\n",
    "\n",
    "from boxmot import DeepOCSORT\n",
    "\n",
    "\n",
    "tracker = DeepOCSORT(\n",
    "    model_weights=Path('osnet_x0_25_msmt17.pt'), # which ReID model to use\n",
    "    device='cuda:0',\n",
    "    fp16=False,\n",
    ")"
   ]
  },
  {
   "cell_type": "code",
   "execution_count": 4,
   "id": "e03a2dec-c80f-482f-9306-a4a983fb405c",
   "metadata": {},
   "outputs": [
    {
     "name": "stdout",
     "output_type": "stream",
     "text": [
      "\n",
      "image 1/1 C:\\Part_dimensions_project\\frames\\frame_0002.jpg: 192x320 2 cars, 44.2ms\n",
      "Speed: 1.0ms preprocess, 44.2ms inference, 1.0ms postprocess per image at shape (1, 3, 192, 320)\n",
      "Results saved to \u001b[1mruns\\detect\\predict4\u001b[0m\n"
     ]
    },
    {
     "data": {
      "text/plain": [
       "[ultralytics.engine.results.Results object with attributes:\n",
       " \n",
       " boxes: ultralytics.engine.results.Boxes object\n",
       " keypoints: None\n",
       " masks: None\n",
       " names: {0: 'pedestrian', 1: 'people', 2: 'bicycle', 3: 'car', 4: 'van', 5: 'truck', 6: 'tricycle', 7: 'awning-tricycle', 8: 'bus', 9: 'motor'}\n",
       " obb: None\n",
       " orig_img: array([[[0, 0, 0],\n",
       "         [0, 0, 0],\n",
       "         [0, 0, 0],\n",
       "         ...,\n",
       "         [0, 0, 0],\n",
       "         [0, 0, 0],\n",
       "         [0, 0, 0]],\n",
       " \n",
       "        [[0, 0, 0],\n",
       "         [0, 0, 0],\n",
       "         [0, 0, 0],\n",
       "         ...,\n",
       "         [0, 0, 0],\n",
       "         [0, 0, 0],\n",
       "         [0, 0, 0]],\n",
       " \n",
       "        [[0, 0, 0],\n",
       "         [0, 0, 0],\n",
       "         [0, 0, 0],\n",
       "         ...,\n",
       "         [0, 0, 0],\n",
       "         [0, 0, 0],\n",
       "         [0, 0, 0]],\n",
       " \n",
       "        ...,\n",
       " \n",
       "        [[0, 0, 0],\n",
       "         [0, 0, 0],\n",
       "         [0, 0, 0],\n",
       "         ...,\n",
       "         [0, 0, 0],\n",
       "         [0, 0, 0],\n",
       "         [0, 0, 0]],\n",
       " \n",
       "        [[0, 0, 0],\n",
       "         [0, 0, 0],\n",
       "         [0, 0, 0],\n",
       "         ...,\n",
       "         [0, 0, 0],\n",
       "         [0, 0, 0],\n",
       "         [0, 0, 0]],\n",
       " \n",
       "        [[0, 0, 0],\n",
       "         [0, 0, 0],\n",
       "         [0, 0, 0],\n",
       "         ...,\n",
       "         [0, 0, 0],\n",
       "         [0, 0, 0],\n",
       "         [0, 0, 0]]], dtype=uint8)\n",
       " orig_shape: (720, 1280)\n",
       " path: 'C:\\\\Part_dimensions_project\\\\frames\\\\frame_0002.jpg'\n",
       " probs: None\n",
       " save_dir: 'runs\\\\detect\\\\predict4'\n",
       " speed: {'preprocess': 1.0037422180175781, 'inference': 44.228315353393555, 'postprocess': 0.9987354278564453}]"
      ]
     },
     "execution_count": 4,
     "metadata": {},
     "output_type": "execute_result"
    }
   ],
   "source": [
    "from ultralytics import YOLO\n",
    "\n",
    "# Load a pretrained YOLOv8n model\n",
    "model = YOLO(r\"C:\\Users\\Navdeep\\runs\\detect\\train13\\weights\\best.pt\")\n",
    "model.to('cpu')\n",
    "# Run inference on 'bus.jpg' with arguments\n",
    "model.predict(r\"C:\\Part_dimensions_project\\frames\\frame_0002.jpg\", save=True, imgsz=320, conf=0.5)"
   ]
  },
  {
   "cell_type": "code",
   "execution_count": null,
   "id": "e02df152-a423-4574-b0cf-c6cfe36861e8",
   "metadata": {},
   "outputs": [],
   "source": []
  }
 ],
 "metadata": {
  "kernelspec": {
   "display_name": "Python 3 (ipykernel)",
   "language": "python",
   "name": "python3"
  },
  "language_info": {
   "codemirror_mode": {
    "name": "ipython",
    "version": 3
   },
   "file_extension": ".py",
   "mimetype": "text/x-python",
   "name": "python",
   "nbconvert_exporter": "python",
   "pygments_lexer": "ipython3",
   "version": "3.11.5"
  }
 },
 "nbformat": 4,
 "nbformat_minor": 5
}
